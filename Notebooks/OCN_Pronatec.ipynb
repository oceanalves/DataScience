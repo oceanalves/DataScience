{
  "cells": [
    {
      "cell_type": "markdown",
      "source": [
        "#**Pronatec**\n",
        "##**Unidades da Rede Federal de EPCT**"
      ],
      "metadata": {
        "id": "psMFyBwwZI5-"
      }
    },
    {
      "cell_type": "code",
      "execution_count": 16,
      "metadata": {
        "id": "IcdQAK2ZkFuE"
      },
      "outputs": [],
      "source": [
        "# Importando bibliotecas\n",
        "# Por convenção vamos chamar o pandas de pd\n",
        "import pandas as pd\n",
        "import numpy as np\n",
        "import matplotlib.pyplot as plt\n",
        "%matplotlib inline"
      ]
    },
    {
      "cell_type": "code",
      "execution_count": 10,
      "metadata": {
        "colab": {
          "base_uri": "https://localhost:8080/",
          "height": 635
        },
        "id": "L8cr1Ro5kFuI",
        "outputId": "037d0101-ddb5-4d82-c726-f5d2b36b4d39"
      },
      "outputs": [
        {
          "output_type": "execute_result",
          "data": {
            "text/html": [
              "\n",
              "  <div id=\"df-b9f1d4c0-bb97-422a-9ab0-fec231704356\">\n",
              "    <div class=\"colab-df-container\">\n",
              "      <div>\n",
              "<style scoped>\n",
              "    .dataframe tbody tr th:only-of-type {\n",
              "        vertical-align: middle;\n",
              "    }\n",
              "\n",
              "    .dataframe tbody tr th {\n",
              "        vertical-align: top;\n",
              "    }\n",
              "\n",
              "    .dataframe thead th {\n",
              "        text-align: right;\n",
              "    }\n",
              "</style>\n",
              "<table border=\"1\" class=\"dataframe\">\n",
              "  <thead>\n",
              "    <tr style=\"text-align: right;\">\n",
              "      <th></th>\n",
              "      <th>CODIGO_UNIDADE</th>\n",
              "      <th>NOME_UNIDADE</th>\n",
              "      <th>DT_AUTORIZA_FUNCIONA_UNID</th>\n",
              "      <th>NOME_REGIAO_UNIDADE</th>\n",
              "      <th>SIGLA_UF_UNIDADE</th>\n",
              "      <th>NOME_MUNICIPIO_UNIDADE</th>\n",
              "      <th>NOME_MESORREGIAO_UNIDADE</th>\n",
              "      <th>NOME_MICRORREGIAO_UNIDADE</th>\n",
              "    </tr>\n",
              "  </thead>\n",
              "  <tbody>\n",
              "    <tr>\n",
              "      <th>0</th>\n",
              "      <td>2879</td>\n",
              "      <td>INSTITUTO FEDERAL DA BAHIA - CAMPUS EUNÁPOLIS</td>\n",
              "      <td>07-01-2009</td>\n",
              "      <td>Nordeste</td>\n",
              "      <td>BA</td>\n",
              "      <td>Eunápolis</td>\n",
              "      <td>Sul Baiano</td>\n",
              "      <td>Porto Seguro</td>\n",
              "    </tr>\n",
              "    <tr>\n",
              "      <th>1</th>\n",
              "      <td>2948</td>\n",
              "      <td>INSTITUTO FEDERAL BAIANO - CAMPUS ITAPETINGA</td>\n",
              "      <td>07-01-2009</td>\n",
              "      <td>Nordeste</td>\n",
              "      <td>BA</td>\n",
              "      <td>Itapetinga</td>\n",
              "      <td>Centro Sul Baiano</td>\n",
              "      <td>Itapetinga</td>\n",
              "    </tr>\n",
              "    <tr>\n",
              "      <th>2</th>\n",
              "      <td>14328</td>\n",
              "      <td>INSTITUTO FEDERAL DO ACRE - CAMPUS SENA MADUREIRA</td>\n",
              "      <td>30-12-2008</td>\n",
              "      <td>Norte</td>\n",
              "      <td>AC</td>\n",
              "      <td>Sena Madureira</td>\n",
              "      <td>Vale do Acre</td>\n",
              "      <td>Sena Madureira</td>\n",
              "    </tr>\n",
              "    <tr>\n",
              "      <th>3</th>\n",
              "      <td>14547</td>\n",
              "      <td>INSTITUTO FEDERAL DE ALAGOAS - CAMPUS ARAPIRACA</td>\n",
              "      <td>06-07-2010</td>\n",
              "      <td>Nordeste</td>\n",
              "      <td>AL</td>\n",
              "      <td>Arapiraca</td>\n",
              "      <td>Agreste Alagoano</td>\n",
              "      <td>Arapiraca</td>\n",
              "    </tr>\n",
              "    <tr>\n",
              "      <th>4</th>\n",
              "      <td>32010</td>\n",
              "      <td>INSTITUTO FEDERAL DE ALAGOAS - CAMPUS CORURIPE</td>\n",
              "      <td>22-01-2014</td>\n",
              "      <td>Nordeste</td>\n",
              "      <td>AL</td>\n",
              "      <td>Coruripe</td>\n",
              "      <td>Leste Alagoano</td>\n",
              "      <td>São Miguel dos Campos</td>\n",
              "    </tr>\n",
              "  </tbody>\n",
              "</table>\n",
              "</div>\n",
              "      <button class=\"colab-df-convert\" onclick=\"convertToInteractive('df-b9f1d4c0-bb97-422a-9ab0-fec231704356')\"\n",
              "              title=\"Convert this dataframe to an interactive table.\"\n",
              "              style=\"display:none;\">\n",
              "        \n",
              "  <svg xmlns=\"http://www.w3.org/2000/svg\" height=\"24px\"viewBox=\"0 0 24 24\"\n",
              "       width=\"24px\">\n",
              "    <path d=\"M0 0h24v24H0V0z\" fill=\"none\"/>\n",
              "    <path d=\"M18.56 5.44l.94 2.06.94-2.06 2.06-.94-2.06-.94-.94-2.06-.94 2.06-2.06.94zm-11 1L8.5 8.5l.94-2.06 2.06-.94-2.06-.94L8.5 2.5l-.94 2.06-2.06.94zm10 10l.94 2.06.94-2.06 2.06-.94-2.06-.94-.94-2.06-.94 2.06-2.06.94z\"/><path d=\"M17.41 7.96l-1.37-1.37c-.4-.4-.92-.59-1.43-.59-.52 0-1.04.2-1.43.59L10.3 9.45l-7.72 7.72c-.78.78-.78 2.05 0 2.83L4 21.41c.39.39.9.59 1.41.59.51 0 1.02-.2 1.41-.59l7.78-7.78 2.81-2.81c.8-.78.8-2.07 0-2.86zM5.41 20L4 18.59l7.72-7.72 1.47 1.35L5.41 20z\"/>\n",
              "  </svg>\n",
              "      </button>\n",
              "      \n",
              "  <style>\n",
              "    .colab-df-container {\n",
              "      display:flex;\n",
              "      flex-wrap:wrap;\n",
              "      gap: 12px;\n",
              "    }\n",
              "\n",
              "    .colab-df-convert {\n",
              "      background-color: #E8F0FE;\n",
              "      border: none;\n",
              "      border-radius: 50%;\n",
              "      cursor: pointer;\n",
              "      display: none;\n",
              "      fill: #1967D2;\n",
              "      height: 32px;\n",
              "      padding: 0 0 0 0;\n",
              "      width: 32px;\n",
              "    }\n",
              "\n",
              "    .colab-df-convert:hover {\n",
              "      background-color: #E2EBFA;\n",
              "      box-shadow: 0px 1px 2px rgba(60, 64, 67, 0.3), 0px 1px 3px 1px rgba(60, 64, 67, 0.15);\n",
              "      fill: #174EA6;\n",
              "    }\n",
              "\n",
              "    [theme=dark] .colab-df-convert {\n",
              "      background-color: #3B4455;\n",
              "      fill: #D2E3FC;\n",
              "    }\n",
              "\n",
              "    [theme=dark] .colab-df-convert:hover {\n",
              "      background-color: #434B5C;\n",
              "      box-shadow: 0px 1px 3px 1px rgba(0, 0, 0, 0.15);\n",
              "      filter: drop-shadow(0px 1px 2px rgba(0, 0, 0, 0.3));\n",
              "      fill: #FFFFFF;\n",
              "    }\n",
              "  </style>\n",
              "\n",
              "      <script>\n",
              "        const buttonEl =\n",
              "          document.querySelector('#df-b9f1d4c0-bb97-422a-9ab0-fec231704356 button.colab-df-convert');\n",
              "        buttonEl.style.display =\n",
              "          google.colab.kernel.accessAllowed ? 'block' : 'none';\n",
              "\n",
              "        async function convertToInteractive(key) {\n",
              "          const element = document.querySelector('#df-b9f1d4c0-bb97-422a-9ab0-fec231704356');\n",
              "          const dataTable =\n",
              "            await google.colab.kernel.invokeFunction('convertToInteractive',\n",
              "                                                     [key], {});\n",
              "          if (!dataTable) return;\n",
              "\n",
              "          const docLinkHtml = 'Like what you see? Visit the ' +\n",
              "            '<a target=\"_blank\" href=https://colab.research.google.com/notebooks/data_table.ipynb>data table notebook</a>'\n",
              "            + ' to learn more about interactive tables.';\n",
              "          element.innerHTML = '';\n",
              "          dataTable['output_type'] = 'display_data';\n",
              "          await google.colab.output.renderOutput(dataTable, element);\n",
              "          const docLink = document.createElement('div');\n",
              "          docLink.innerHTML = docLinkHtml;\n",
              "          element.appendChild(docLink);\n",
              "        }\n",
              "      </script>\n",
              "    </div>\n",
              "  </div>\n",
              "  "
            ],
            "text/plain": [
              "   CODIGO_UNIDADE  ... NOME_MICRORREGIAO_UNIDADE\n",
              "0            2879  ...              Porto Seguro\n",
              "1            2948  ...                Itapetinga\n",
              "2           14328  ...            Sena Madureira\n",
              "3           14547  ...                 Arapiraca\n",
              "4           32010  ...     São Miguel dos Campos\n",
              "\n",
              "[5 rows x 8 columns]"
            ]
          },
          "metadata": {},
          "execution_count": 10
        }
      ],
      "source": [
        "# Carregar o arquivo CSV\n",
        "# Pandas vai converter o arquivo em um DataFrame\n",
        "# Por convenção, chamamos o DataFrame de df\n",
        "# O arquivo é separado por ';', por isso informamos o parâmetro 'sep'\n",
        "# O arquivo é codificado como cp1252\n",
        "#df = pd.read_csv('PDA_UNIDADES_RF_EPCT_CSV.csv', sep=';', encoding='cp1252')\n",
        "\n",
        "df = pd.read_csv('https://raw.githubusercontent.com/oceanalves/DataScience/main/DataSets/PDA_UNIDADES_RF_EPCT_CSV.csv', sep=';', encoding='cp1252')\n",
        "\n",
        "# Mostra as 5 primeiras linhas do DataFrame\n",
        "df.head()"
      ]
    },
    {
      "cell_type": "code",
      "execution_count": 11,
      "metadata": {
        "id": "m6O1SPhFkFuJ",
        "outputId": "f67c053d-2ac0-4433-c447-ec25a5e38363",
        "colab": {
          "base_uri": "https://localhost:8080/"
        }
      },
      "outputs": [
        {
          "output_type": "execute_result",
          "data": {
            "text/plain": [
              "CODIGO_UNIDADE               618\n",
              "NOME_UNIDADE                 618\n",
              "DT_AUTORIZA_FUNCIONA_UNID    618\n",
              "NOME_REGIAO_UNIDADE          618\n",
              "SIGLA_UF_UNIDADE             618\n",
              "NOME_MUNICIPIO_UNIDADE       618\n",
              "NOME_MESORREGIAO_UNIDADE     618\n",
              "NOME_MICRORREGIAO_UNIDADE    618\n",
              "dtype: int64"
            ]
          },
          "metadata": {},
          "execution_count": 11
        }
      ],
      "source": [
        "# Quantas escolas no arquivo?\n",
        "df.count()"
      ]
    },
    {
      "cell_type": "code",
      "source": [
        "# Por nome da unidade\n",
        "df.NOME_UNIDADE.count()"
      ],
      "metadata": {
        "colab": {
          "base_uri": "https://localhost:8080/"
        },
        "id": "APmwiUNnIM-k",
        "outputId": "57a0af78-dfe2-4008-9bcc-c14274f5b867"
      },
      "execution_count": 12,
      "outputs": [
        {
          "output_type": "execute_result",
          "data": {
            "text/plain": [
              "618"
            ]
          },
          "metadata": {},
          "execution_count": 12
        }
      ]
    },
    {
      "cell_type": "code",
      "execution_count": 13,
      "metadata": {
        "id": "X2aQkkFOkFuK",
        "outputId": "94aec1da-d3f7-4bf4-9bfa-edfd77f0b462",
        "colab": {
          "base_uri": "https://localhost:8080/",
          "height": 300
        }
      },
      "outputs": [
        {
          "output_type": "execute_result",
          "data": {
            "text/html": [
              "\n",
              "  <div id=\"df-5d9ed4c7-c3fa-4c57-b932-4f7f6bfcf750\">\n",
              "    <div class=\"colab-df-container\">\n",
              "      <div>\n",
              "<style scoped>\n",
              "    .dataframe tbody tr th:only-of-type {\n",
              "        vertical-align: middle;\n",
              "    }\n",
              "\n",
              "    .dataframe tbody tr th {\n",
              "        vertical-align: top;\n",
              "    }\n",
              "\n",
              "    .dataframe thead th {\n",
              "        text-align: right;\n",
              "    }\n",
              "</style>\n",
              "<table border=\"1\" class=\"dataframe\">\n",
              "  <thead>\n",
              "    <tr style=\"text-align: right;\">\n",
              "      <th></th>\n",
              "      <th>CODIGO_UNIDADE</th>\n",
              "    </tr>\n",
              "  </thead>\n",
              "  <tbody>\n",
              "    <tr>\n",
              "      <th>count</th>\n",
              "      <td>618.000000</td>\n",
              "    </tr>\n",
              "    <tr>\n",
              "      <th>mean</th>\n",
              "      <td>16255.610032</td>\n",
              "    </tr>\n",
              "    <tr>\n",
              "      <th>std</th>\n",
              "      <td>12973.588737</td>\n",
              "    </tr>\n",
              "    <tr>\n",
              "      <th>min</th>\n",
              "      <td>354.000000</td>\n",
              "    </tr>\n",
              "    <tr>\n",
              "      <th>25%</th>\n",
              "      <td>2998.500000</td>\n",
              "    </tr>\n",
              "    <tr>\n",
              "      <th>50%</th>\n",
              "      <td>13840.500000</td>\n",
              "    </tr>\n",
              "    <tr>\n",
              "      <th>75%</th>\n",
              "      <td>30818.250000</td>\n",
              "    </tr>\n",
              "    <tr>\n",
              "      <th>max</th>\n",
              "      <td>44307.000000</td>\n",
              "    </tr>\n",
              "  </tbody>\n",
              "</table>\n",
              "</div>\n",
              "      <button class=\"colab-df-convert\" onclick=\"convertToInteractive('df-5d9ed4c7-c3fa-4c57-b932-4f7f6bfcf750')\"\n",
              "              title=\"Convert this dataframe to an interactive table.\"\n",
              "              style=\"display:none;\">\n",
              "        \n",
              "  <svg xmlns=\"http://www.w3.org/2000/svg\" height=\"24px\"viewBox=\"0 0 24 24\"\n",
              "       width=\"24px\">\n",
              "    <path d=\"M0 0h24v24H0V0z\" fill=\"none\"/>\n",
              "    <path d=\"M18.56 5.44l.94 2.06.94-2.06 2.06-.94-2.06-.94-.94-2.06-.94 2.06-2.06.94zm-11 1L8.5 8.5l.94-2.06 2.06-.94-2.06-.94L8.5 2.5l-.94 2.06-2.06.94zm10 10l.94 2.06.94-2.06 2.06-.94-2.06-.94-.94-2.06-.94 2.06-2.06.94z\"/><path d=\"M17.41 7.96l-1.37-1.37c-.4-.4-.92-.59-1.43-.59-.52 0-1.04.2-1.43.59L10.3 9.45l-7.72 7.72c-.78.78-.78 2.05 0 2.83L4 21.41c.39.39.9.59 1.41.59.51 0 1.02-.2 1.41-.59l7.78-7.78 2.81-2.81c.8-.78.8-2.07 0-2.86zM5.41 20L4 18.59l7.72-7.72 1.47 1.35L5.41 20z\"/>\n",
              "  </svg>\n",
              "      </button>\n",
              "      \n",
              "  <style>\n",
              "    .colab-df-container {\n",
              "      display:flex;\n",
              "      flex-wrap:wrap;\n",
              "      gap: 12px;\n",
              "    }\n",
              "\n",
              "    .colab-df-convert {\n",
              "      background-color: #E8F0FE;\n",
              "      border: none;\n",
              "      border-radius: 50%;\n",
              "      cursor: pointer;\n",
              "      display: none;\n",
              "      fill: #1967D2;\n",
              "      height: 32px;\n",
              "      padding: 0 0 0 0;\n",
              "      width: 32px;\n",
              "    }\n",
              "\n",
              "    .colab-df-convert:hover {\n",
              "      background-color: #E2EBFA;\n",
              "      box-shadow: 0px 1px 2px rgba(60, 64, 67, 0.3), 0px 1px 3px 1px rgba(60, 64, 67, 0.15);\n",
              "      fill: #174EA6;\n",
              "    }\n",
              "\n",
              "    [theme=dark] .colab-df-convert {\n",
              "      background-color: #3B4455;\n",
              "      fill: #D2E3FC;\n",
              "    }\n",
              "\n",
              "    [theme=dark] .colab-df-convert:hover {\n",
              "      background-color: #434B5C;\n",
              "      box-shadow: 0px 1px 3px 1px rgba(0, 0, 0, 0.15);\n",
              "      filter: drop-shadow(0px 1px 2px rgba(0, 0, 0, 0.3));\n",
              "      fill: #FFFFFF;\n",
              "    }\n",
              "  </style>\n",
              "\n",
              "      <script>\n",
              "        const buttonEl =\n",
              "          document.querySelector('#df-5d9ed4c7-c3fa-4c57-b932-4f7f6bfcf750 button.colab-df-convert');\n",
              "        buttonEl.style.display =\n",
              "          google.colab.kernel.accessAllowed ? 'block' : 'none';\n",
              "\n",
              "        async function convertToInteractive(key) {\n",
              "          const element = document.querySelector('#df-5d9ed4c7-c3fa-4c57-b932-4f7f6bfcf750');\n",
              "          const dataTable =\n",
              "            await google.colab.kernel.invokeFunction('convertToInteractive',\n",
              "                                                     [key], {});\n",
              "          if (!dataTable) return;\n",
              "\n",
              "          const docLinkHtml = 'Like what you see? Visit the ' +\n",
              "            '<a target=\"_blank\" href=https://colab.research.google.com/notebooks/data_table.ipynb>data table notebook</a>'\n",
              "            + ' to learn more about interactive tables.';\n",
              "          element.innerHTML = '';\n",
              "          dataTable['output_type'] = 'display_data';\n",
              "          await google.colab.output.renderOutput(dataTable, element);\n",
              "          const docLink = document.createElement('div');\n",
              "          docLink.innerHTML = docLinkHtml;\n",
              "          element.appendChild(docLink);\n",
              "        }\n",
              "      </script>\n",
              "    </div>\n",
              "  </div>\n",
              "  "
            ],
            "text/plain": [
              "       CODIGO_UNIDADE\n",
              "count      618.000000\n",
              "mean     16255.610032\n",
              "std      12973.588737\n",
              "min        354.000000\n",
              "25%       2998.500000\n",
              "50%      13840.500000\n",
              "75%      30818.250000\n",
              "max      44307.000000"
            ]
          },
          "metadata": {},
          "execution_count": 13
        }
      ],
      "source": [
        "# Descreve as colunas numéricas\n",
        "df.describe()"
      ]
    },
    {
      "cell_type": "code",
      "execution_count": 14,
      "metadata": {
        "id": "OKrEh68rkFuK",
        "outputId": "dd57409e-e960-4560-f243-ed4df896e3e7",
        "colab": {
          "base_uri": "https://localhost:8080/"
        }
      },
      "outputs": [
        {
          "output_type": "execute_result",
          "data": {
            "text/plain": [
              "CODIGO_UNIDADE                int64\n",
              "NOME_UNIDADE                 object\n",
              "DT_AUTORIZA_FUNCIONA_UNID    object\n",
              "NOME_REGIAO_UNIDADE          object\n",
              "SIGLA_UF_UNIDADE             object\n",
              "NOME_MUNICIPIO_UNIDADE       object\n",
              "NOME_MESORREGIAO_UNIDADE     object\n",
              "NOME_MICRORREGIAO_UNIDADE    object\n",
              "dtype: object"
            ]
          },
          "metadata": {},
          "execution_count": 14
        }
      ],
      "source": [
        "# Mostra o tipo de cada coluna do DataFrame\n",
        "df.dtypes"
      ]
    },
    {
      "cell_type": "code",
      "execution_count": 15,
      "metadata": {
        "id": "pQCpTq94kFuL",
        "outputId": "e64d2145-1b33-46ff-907e-906e152d2a7f",
        "colab": {
          "base_uri": "https://localhost:8080/"
        }
      },
      "outputs": [
        {
          "output_type": "execute_result",
          "data": {
            "text/plain": [
              "Nordeste        202\n",
              "Sudeste         163\n",
              "Sul             116\n",
              "Norte            70\n",
              "Centro-Oeste     67\n",
              "Name: NOME_REGIAO_UNIDADE, dtype: int64"
            ]
          },
          "metadata": {},
          "execution_count": 15
        }
      ],
      "source": [
        "# Quantas escolas existem em cada região do Brasil\n",
        "df['NOME_REGIAO_UNIDADE'].value_counts()"
      ]
    },
    {
      "cell_type": "code",
      "source": [
        "dfr = df['NOME_REGIAO_UNIDADE'].value_counts()\n",
        "dfr"
      ],
      "metadata": {
        "colab": {
          "base_uri": "https://localhost:8080/"
        },
        "id": "HP_nKeVXTUbn",
        "outputId": "c432cf6d-7c2e-4565-a09f-c1159b484d02"
      },
      "execution_count": 19,
      "outputs": [
        {
          "output_type": "execute_result",
          "data": {
            "text/plain": [
              "Nordeste        202\n",
              "Sudeste         163\n",
              "Sul             116\n",
              "Norte            70\n",
              "Centro-Oeste     67\n",
              "Name: NOME_REGIAO_UNIDADE, dtype: int64"
            ]
          },
          "metadata": {},
          "execution_count": 19
        }
      ]
    },
    {
      "cell_type": "code",
      "source": [
        "dfr = df['NOME_REGIAO_UNIDADE']\n",
        "dfr"
      ],
      "metadata": {
        "colab": {
          "base_uri": "https://localhost:8080/"
        },
        "id": "K2c1-_8PUetJ",
        "outputId": "bb8afb0e-00b8-48d3-ad4f-fe9f23543d2f"
      },
      "execution_count": 20,
      "outputs": [
        {
          "output_type": "execute_result",
          "data": {
            "text/plain": [
              "0      Nordeste\n",
              "1      Nordeste\n",
              "2         Norte\n",
              "3      Nordeste\n",
              "4      Nordeste\n",
              "         ...   \n",
              "613         Sul\n",
              "614         Sul\n",
              "615     Sudeste\n",
              "616     Sudeste\n",
              "617       Norte\n",
              "Name: NOME_REGIAO_UNIDADE, Length: 618, dtype: object"
            ]
          },
          "metadata": {},
          "execution_count": 20
        }
      ]
    },
    {
      "cell_type": "code",
      "source": [
        "# Gráfico Histograma:\n",
        "#plt.figure(figsize=(10, 6))\n",
        "\n",
        "titulo = 'NOME DA UNIDADE'\n",
        "eixox = 'Região'\n",
        "eixoy = 'Quantidade'\n",
        "\n",
        "# Legendas\n",
        "plt.title(titulo)\n",
        "plt.xlabel(eixox)\n",
        "plt.ylabel(eixoy)\n",
        "\n",
        "plt.hist(dfr);"
      ],
      "metadata": {
        "colab": {
          "base_uri": "https://localhost:8080/",
          "height": 295
        },
        "id": "UAGTKhJeRlkx",
        "outputId": "05314c1a-97f0-4b87-f45d-2359c8c8e6e5"
      },
      "execution_count": 29,
      "outputs": [
        {
          "output_type": "display_data",
          "data": {
            "image/png": "[encoded data removed]",
            "text/plain": [
              "<Figure size 432x288 with 1 Axes>"
            ]
          },
          "metadata": {
            "needs_background": "light"
          }
        }
      ]
    },
    {
      "cell_type": "code",
      "source": [
        "# Gráfico de Barras:\n",
        "#plt.figure(figsize=(10, 6))\n",
        "\n",
        "titulo = 'NOME DA UNIDADE'\n",
        "eixox = 'Região'\n",
        "eixoy = 'Quantidade'\n",
        "\n",
        "# Legendas\n",
        "plt.title(titulo)\n",
        "plt.xlabel(eixox)\n",
        "plt.ylabel(eixoy)\n",
        "\n",
        "df['NOME_REGIAO_UNIDADE'].value_counts().plot.bar();"
      ],
      "metadata": {
        "colab": {
          "base_uri": "https://localhost:8080/",
          "height": 352
        },
        "id": "CLLI_lYcXBHB",
        "outputId": "35b895c7-7cf2-4d2b-aee2-7aded711c784"
      },
      "execution_count": 31,
      "outputs": [
        {
          "output_type": "display_data",
          "data": {
            "image/png": "[encoded data removed]",
            "text/plain": [
              "<Figure size 432x288 with 1 Axes>"
            ]
          },
          "metadata": {
            "needs_background": "light"
          }
        }
      ]
    },
    {
      "cell_type": "code",
      "execution_count": null,
      "metadata": {
        "id": "dWXemDXUkFuL",
        "outputId": "767fffc0-8180-4766-f9d3-ecd815eb0fd2"
      },
      "outputs": [
        {
          "data": {
            "text/plain": [
              "MG    67\n",
              "RS    45\n",
              "RJ    39\n",
              "SC    36\n",
              "PR    35\n",
              "SP    35\n",
              "BA    34\n",
              "CE    27\n",
              "MA    27\n",
              "GO    26\n",
              "PI    23\n",
              "PE    23\n",
              "RN    23\n",
              "ES    22\n",
              "PB    21\n",
              "PA    20\n",
              "MT    19\n",
              "AL    16\n",
              "AM    15\n",
              "MS    11\n",
              "TO    11\n",
              "DF    11\n",
              "RO     8\n",
              "SE     8\n",
              "AC     6\n",
              "RR     6\n",
              "AP     4\n",
              "Name: SIGLA_UF_UNIDADE, dtype: int64"
            ]
          },
          "execution_count": 21,
          "metadata": {},
          "output_type": "execute_result"
        }
      ],
      "source": [
        "# Vamos contar agora por Unidade da Federação (Estado)\n",
        "df['SIGLA_UF_UNIDADE'].value_counts()"
      ]
    },
    {
      "cell_type": "code",
      "execution_count": 33,
      "metadata": {
        "id": "YLW9sp-akFuM",
        "outputId": "288517ab-0ed8-4688-f411-d3fb41f0e86f",
        "colab": {
          "base_uri": "https://localhost:8080/",
          "height": 383
        }
      },
      "outputs": [
        {
          "output_type": "display_data",
          "data": {
            "image/png": "[encoded data removed]",
            "text/plain": [
              "<Figure size 720x432 with 1 Axes>"
            ]
          },
          "metadata": {
            "needs_background": "light"
          }
        }
      ],
      "source": [
        "# Mostrando os dados em um gráfico\n",
        "\n",
        "# Nós precisamos informar que queremos visualizar o gráfico dentro\n",
        "# do próprio jupyter notebook\n",
        "%matplotlib inline\n",
        "\n",
        "# Agora vamos pegar as escolas por UF e mostrar em um gráfico de barras\n",
        "plt.figure(figsize=(10, 6))\n",
        "df['SIGLA_UF_UNIDADE'].value_counts().plot.bar();"
      ]
    },
    {
      "cell_type": "code",
      "source": [
        "# Exibir apenas da UF escolhida:\n",
        "df[df['SIGLA_UF_UNIDADE'] == 'PI'].sample(5)"
      ],
      "metadata": {
        "colab": {
          "base_uri": "https://localhost:8080/",
          "height": 617
        },
        "id": "fqu-jV7YX3oC",
        "outputId": "5906557e-fc76-4d76-da43-dbf567f8c93c"
      },
      "execution_count": 38,
      "outputs": [
        {
          "output_type": "execute_result",
          "data": {
            "text/html": [
              "\n",
              "  <div id=\"df-edcda157-08ea-4a74-807a-fe143c9648ab\">\n",
              "    <div class=\"colab-df-container\">\n",
              "      <div>\n",
              "<style scoped>\n",
              "    .dataframe tbody tr th:only-of-type {\n",
              "        vertical-align: middle;\n",
              "    }\n",
              "\n",
              "    .dataframe tbody tr th {\n",
              "        vertical-align: top;\n",
              "    }\n",
              "\n",
              "    .dataframe thead th {\n",
              "        text-align: right;\n",
              "    }\n",
              "</style>\n",
              "<table border=\"1\" class=\"dataframe\">\n",
              "  <thead>\n",
              "    <tr style=\"text-align: right;\">\n",
              "      <th></th>\n",
              "      <th>CODIGO_UNIDADE</th>\n",
              "      <th>NOME_UNIDADE</th>\n",
              "      <th>DT_AUTORIZA_FUNCIONA_UNID</th>\n",
              "      <th>NOME_REGIAO_UNIDADE</th>\n",
              "      <th>SIGLA_UF_UNIDADE</th>\n",
              "      <th>NOME_MUNICIPIO_UNIDADE</th>\n",
              "      <th>NOME_MESORREGIAO_UNIDADE</th>\n",
              "      <th>NOME_MICRORREGIAO_UNIDADE</th>\n",
              "    </tr>\n",
              "  </thead>\n",
              "  <tbody>\n",
              "    <tr>\n",
              "      <th>46</th>\n",
              "      <td>12980</td>\n",
              "      <td>COLÉGIO TÉCNICO DE BOM JESUS</td>\n",
              "      <td>11-09-1981</td>\n",
              "      <td>Nordeste</td>\n",
              "      <td>PI</td>\n",
              "      <td>Bom Jesus</td>\n",
              "      <td>Sudoeste Piauiense</td>\n",
              "      <td>Alto Médio Gurguéia</td>\n",
              "    </tr>\n",
              "    <tr>\n",
              "      <th>506</th>\n",
              "      <td>13291</td>\n",
              "      <td>INSTITUTO FEDERAL DO PIAUÍ - CAMPUS ANGICAL DO...</td>\n",
              "      <td>07-01-2009</td>\n",
              "      <td>Nordeste</td>\n",
              "      <td>PI</td>\n",
              "      <td>Angical do Piauí</td>\n",
              "      <td>Centro-Norte Piauiense</td>\n",
              "      <td>Médio Parnaíba Piauiense</td>\n",
              "    </tr>\n",
              "    <tr>\n",
              "      <th>587</th>\n",
              "      <td>13293</td>\n",
              "      <td>INSTITUTO FEDERAL DO PIAUÍ - CAMPUS CORRENTE</td>\n",
              "      <td>07-01-2009</td>\n",
              "      <td>Nordeste</td>\n",
              "      <td>PI</td>\n",
              "      <td>Corrente</td>\n",
              "      <td>Sudoeste Piauiense</td>\n",
              "      <td>Chapadas do Extremo Sul Piauiense</td>\n",
              "    </tr>\n",
              "    <tr>\n",
              "      <th>589</th>\n",
              "      <td>31994</td>\n",
              "      <td>INSTITUTO FEDERAL DO PIAUÍ CAMPUS AVANÇADO PIO IX</td>\n",
              "      <td>22-01-2014</td>\n",
              "      <td>Nordeste</td>\n",
              "      <td>PI</td>\n",
              "      <td>Pio IX</td>\n",
              "      <td>Sudeste Piauiense</td>\n",
              "      <td>Pio IX</td>\n",
              "    </tr>\n",
              "    <tr>\n",
              "      <th>507</th>\n",
              "      <td>20429</td>\n",
              "      <td>INSTITUTO FEDERAL DO PIAUÍ - CAMPUS PEDRO II</td>\n",
              "      <td>29-12-2008</td>\n",
              "      <td>Nordeste</td>\n",
              "      <td>PI</td>\n",
              "      <td>Pedro II</td>\n",
              "      <td>Centro-Norte Piauiense</td>\n",
              "      <td>Campo Maior</td>\n",
              "    </tr>\n",
              "  </tbody>\n",
              "</table>\n",
              "</div>\n",
              "      <button class=\"colab-df-convert\" onclick=\"convertToInteractive('df-edcda157-08ea-4a74-807a-fe143c9648ab')\"\n",
              "              title=\"Convert this dataframe to an interactive table.\"\n",
              "              style=\"display:none;\">\n",
              "        \n",
              "  <svg xmlns=\"http://www.w3.org/2000/svg\" height=\"24px\"viewBox=\"0 0 24 24\"\n",
              "       width=\"24px\">\n",
              "    <path d=\"M0 0h24v24H0V0z\" fill=\"none\"/>\n",
              "    <path d=\"M18.56 5.44l.94 2.06.94-2.06 2.06-.94-2.06-.94-.94-2.06-.94 2.06-2.06.94zm-11 1L8.5 8.5l.94-2.06 2.06-.94-2.06-.94L8.5 2.5l-.94 2.06-2.06.94zm10 10l.94 2.06.94-2.06 2.06-.94-2.06-.94-.94-2.06-.94 2.06-2.06.94z\"/><path d=\"M17.41 7.96l-1.37-1.37c-.4-.4-.92-.59-1.43-.59-.52 0-1.04.2-1.43.59L10.3 9.45l-7.72 7.72c-.78.78-.78 2.05 0 2.83L4 21.41c.39.39.9.59 1.41.59.51 0 1.02-.2 1.41-.59l7.78-7.78 2.81-2.81c.8-.78.8-2.07 0-2.86zM5.41 20L4 18.59l7.72-7.72 1.47 1.35L5.41 20z\"/>\n",
              "  </svg>\n",
              "      </button>\n",
              "      \n",
              "  <style>\n",
              "    .colab-df-container {\n",
              "      display:flex;\n",
              "      flex-wrap:wrap;\n",
              "      gap: 12px;\n",
              "    }\n",
              "\n",
              "    .colab-df-convert {\n",
              "      background-color: #E8F0FE;\n",
              "      border: none;\n",
              "      border-radius: 50%;\n",
              "      cursor: pointer;\n",
              "      display: none;\n",
              "      fill: #1967D2;\n",
              "      height: 32px;\n",
              "      padding: 0 0 0 0;\n",
              "      width: 32px;\n",
              "    }\n",
              "\n",
              "    .colab-df-convert:hover {\n",
              "      background-color: #E2EBFA;\n",
              "      box-shadow: 0px 1px 2px rgba(60, 64, 67, 0.3), 0px 1px 3px 1px rgba(60, 64, 67, 0.15);\n",
              "      fill: #174EA6;\n",
              "    }\n",
              "\n",
              "    [theme=dark] .colab-df-convert {\n",
              "      background-color: #3B4455;\n",
              "      fill: #D2E3FC;\n",
              "    }\n",
              "\n",
              "    [theme=dark] .colab-df-convert:hover {\n",
              "      background-color: #434B5C;\n",
              "      box-shadow: 0px 1px 3px 1px rgba(0, 0, 0, 0.15);\n",
              "      filter: drop-shadow(0px 1px 2px rgba(0, 0, 0, 0.3));\n",
              "      fill: #FFFFFF;\n",
              "    }\n",
              "  </style>\n",
              "\n",
              "      <script>\n",
              "        const buttonEl =\n",
              "          document.querySelector('#df-edcda157-08ea-4a74-807a-fe143c9648ab button.colab-df-convert');\n",
              "        buttonEl.style.display =\n",
              "          google.colab.kernel.accessAllowed ? 'block' : 'none';\n",
              "\n",
              "        async function convertToInteractive(key) {\n",
              "          const element = document.querySelector('#df-edcda157-08ea-4a74-807a-fe143c9648ab');\n",
              "          const dataTable =\n",
              "            await google.colab.kernel.invokeFunction('convertToInteractive',\n",
              "                                                     [key], {});\n",
              "          if (!dataTable) return;\n",
              "\n",
              "          const docLinkHtml = 'Like what you see? Visit the ' +\n",
              "            '<a target=\"_blank\" href=https://colab.research.google.com/notebooks/data_table.ipynb>data table notebook</a>'\n",
              "            + ' to learn more about interactive tables.';\n",
              "          element.innerHTML = '';\n",
              "          dataTable['output_type'] = 'display_data';\n",
              "          await google.colab.output.renderOutput(dataTable, element);\n",
              "          const docLink = document.createElement('div');\n",
              "          docLink.innerHTML = docLinkHtml;\n",
              "          element.appendChild(docLink);\n",
              "        }\n",
              "      </script>\n",
              "    </div>\n",
              "  </div>\n",
              "  "
            ],
            "text/plain": [
              "     CODIGO_UNIDADE  ...          NOME_MICRORREGIAO_UNIDADE\n",
              "46            12980  ...                Alto Médio Gurguéia\n",
              "506           13291  ...           Médio Parnaíba Piauiense\n",
              "587           13293  ...  Chapadas do Extremo Sul Piauiense\n",
              "589           31994  ...                             Pio IX\n",
              "507           20429  ...                        Campo Maior\n",
              "\n",
              "[5 rows x 8 columns]"
            ]
          },
          "metadata": {},
          "execution_count": 38
        }
      ]
    },
    {
      "cell_type": "code",
      "source": [
        "# Exibir apenas da UF escolhida:\n",
        "df[df['NOME_MUNICIPIO_UNIDADE'] == 'Teresina']"
      ],
      "metadata": {
        "colab": {
          "base_uri": "https://localhost:8080/",
          "height": 534
        },
        "id": "AtGHys-6YG9A",
        "outputId": "16a1ac94-c5d9-4553-cd9b-a56c56ed256d"
      },
      "execution_count": 40,
      "outputs": [
        {
          "output_type": "execute_result",
          "data": {
            "text/html": [
              "\n",
              "  <div id=\"df-6f484974-b858-4336-9206-685cbe2f141b\">\n",
              "    <div class=\"colab-df-container\">\n",
              "      <div>\n",
              "<style scoped>\n",
              "    .dataframe tbody tr th:only-of-type {\n",
              "        vertical-align: middle;\n",
              "    }\n",
              "\n",
              "    .dataframe tbody tr th {\n",
              "        vertical-align: top;\n",
              "    }\n",
              "\n",
              "    .dataframe thead th {\n",
              "        text-align: right;\n",
              "    }\n",
              "</style>\n",
              "<table border=\"1\" class=\"dataframe\">\n",
              "  <thead>\n",
              "    <tr style=\"text-align: right;\">\n",
              "      <th></th>\n",
              "      <th>CODIGO_UNIDADE</th>\n",
              "      <th>NOME_UNIDADE</th>\n",
              "      <th>DT_AUTORIZA_FUNCIONA_UNID</th>\n",
              "      <th>NOME_REGIAO_UNIDADE</th>\n",
              "      <th>SIGLA_UF_UNIDADE</th>\n",
              "      <th>NOME_MUNICIPIO_UNIDADE</th>\n",
              "      <th>NOME_MESORREGIAO_UNIDADE</th>\n",
              "      <th>NOME_MICRORREGIAO_UNIDADE</th>\n",
              "    </tr>\n",
              "  </thead>\n",
              "  <tbody>\n",
              "    <tr>\n",
              "      <th>279</th>\n",
              "      <td>12424</td>\n",
              "      <td>COLÉGIO TÉCNICO DE TERESINA</td>\n",
              "      <td>10-05-1954</td>\n",
              "      <td>Nordeste</td>\n",
              "      <td>PI</td>\n",
              "      <td>Teresina</td>\n",
              "      <td>Centro-Norte Piauiense</td>\n",
              "      <td>Teresina</td>\n",
              "    </tr>\n",
              "    <tr>\n",
              "      <th>508</th>\n",
              "      <td>2920</td>\n",
              "      <td>INSTITUTO FEDERAL DO PIAUÍ - CAMPUS TERESINA C...</td>\n",
              "      <td>07-01-2009</td>\n",
              "      <td>Nordeste</td>\n",
              "      <td>PI</td>\n",
              "      <td>Teresina</td>\n",
              "      <td>Centro-Norte Piauiense</td>\n",
              "      <td>Teresina</td>\n",
              "    </tr>\n",
              "    <tr>\n",
              "      <th>509</th>\n",
              "      <td>4243</td>\n",
              "      <td>INSTITUTO FEDERAL DO PIAUÍ - CAMPUS TERESINA Z...</td>\n",
              "      <td>07-01-2009</td>\n",
              "      <td>Nordeste</td>\n",
              "      <td>PI</td>\n",
              "      <td>Teresina</td>\n",
              "      <td>Centro-Norte Piauiense</td>\n",
              "      <td>Teresina</td>\n",
              "    </tr>\n",
              "    <tr>\n",
              "      <th>590</th>\n",
              "      <td>31991</td>\n",
              "      <td>INSTITUTO FEDERAL DO PIAUÍ CAMPUS AVANÇADO DIR...</td>\n",
              "      <td>22-01-2014</td>\n",
              "      <td>Nordeste</td>\n",
              "      <td>PI</td>\n",
              "      <td>Teresina</td>\n",
              "      <td>Centro-Norte Piauiense</td>\n",
              "      <td>Teresina</td>\n",
              "    </tr>\n",
              "  </tbody>\n",
              "</table>\n",
              "</div>\n",
              "      <button class=\"colab-df-convert\" onclick=\"convertToInteractive('df-6f484974-b858-4336-9206-685cbe2f141b')\"\n",
              "              title=\"Convert this dataframe to an interactive table.\"\n",
              "              style=\"display:none;\">\n",
              "        \n",
              "  <svg xmlns=\"http://www.w3.org/2000/svg\" height=\"24px\"viewBox=\"0 0 24 24\"\n",
              "       width=\"24px\">\n",
              "    <path d=\"M0 0h24v24H0V0z\" fill=\"none\"/>\n",
              "    <path d=\"M18.56 5.44l.94 2.06.94-2.06 2.06-.94-2.06-.94-.94-2.06-.94 2.06-2.06.94zm-11 1L8.5 8.5l.94-2.06 2.06-.94-2.06-.94L8.5 2.5l-.94 2.06-2.06.94zm10 10l.94 2.06.94-2.06 2.06-.94-2.06-.94-.94-2.06-.94 2.06-2.06.94z\"/><path d=\"M17.41 7.96l-1.37-1.37c-.4-.4-.92-.59-1.43-.59-.52 0-1.04.2-1.43.59L10.3 9.45l-7.72 7.72c-.78.78-.78 2.05 0 2.83L4 21.41c.39.39.9.59 1.41.59.51 0 1.02-.2 1.41-.59l7.78-7.78 2.81-2.81c.8-.78.8-2.07 0-2.86zM5.41 20L4 18.59l7.72-7.72 1.47 1.35L5.41 20z\"/>\n",
              "  </svg>\n",
              "      </button>\n",
              "      \n",
              "  <style>\n",
              "    .colab-df-container {\n",
              "      display:flex;\n",
              "      flex-wrap:wrap;\n",
              "      gap: 12px;\n",
              "    }\n",
              "\n",
              "    .colab-df-convert {\n",
              "      background-color: #E8F0FE;\n",
              "      border: none;\n",
              "      border-radius: 50%;\n",
              "      cursor: pointer;\n",
              "      display: none;\n",
              "      fill: #1967D2;\n",
              "      height: 32px;\n",
              "      padding: 0 0 0 0;\n",
              "      width: 32px;\n",
              "    }\n",
              "\n",
              "    .colab-df-convert:hover {\n",
              "      background-color: #E2EBFA;\n",
              "      box-shadow: 0px 1px 2px rgba(60, 64, 67, 0.3), 0px 1px 3px 1px rgba(60, 64, 67, 0.15);\n",
              "      fill: #174EA6;\n",
              "    }\n",
              "\n",
              "    [theme=dark] .colab-df-convert {\n",
              "      background-color: #3B4455;\n",
              "      fill: #D2E3FC;\n",
              "    }\n",
              "\n",
              "    [theme=dark] .colab-df-convert:hover {\n",
              "      background-color: #434B5C;\n",
              "      box-shadow: 0px 1px 3px 1px rgba(0, 0, 0, 0.15);\n",
              "      filter: drop-shadow(0px 1px 2px rgba(0, 0, 0, 0.3));\n",
              "      fill: #FFFFFF;\n",
              "    }\n",
              "  </style>\n",
              "\n",
              "      <script>\n",
              "        const buttonEl =\n",
              "          document.querySelector('#df-6f484974-b858-4336-9206-685cbe2f141b button.colab-df-convert');\n",
              "        buttonEl.style.display =\n",
              "          google.colab.kernel.accessAllowed ? 'block' : 'none';\n",
              "\n",
              "        async function convertToInteractive(key) {\n",
              "          const element = document.querySelector('#df-6f484974-b858-4336-9206-685cbe2f141b');\n",
              "          const dataTable =\n",
              "            await google.colab.kernel.invokeFunction('convertToInteractive',\n",
              "                                                     [key], {});\n",
              "          if (!dataTable) return;\n",
              "\n",
              "          const docLinkHtml = 'Like what you see? Visit the ' +\n",
              "            '<a target=\"_blank\" href=https://colab.research.google.com/notebooks/data_table.ipynb>data table notebook</a>'\n",
              "            + ' to learn more about interactive tables.';\n",
              "          element.innerHTML = '';\n",
              "          dataTable['output_type'] = 'display_data';\n",
              "          await google.colab.output.renderOutput(dataTable, element);\n",
              "          const docLink = document.createElement('div');\n",
              "          docLink.innerHTML = docLinkHtml;\n",
              "          element.appendChild(docLink);\n",
              "        }\n",
              "      </script>\n",
              "    </div>\n",
              "  </div>\n",
              "  "
            ],
            "text/plain": [
              "     CODIGO_UNIDADE  ... NOME_MICRORREGIAO_UNIDADE\n",
              "279           12424  ...                  Teresina\n",
              "508            2920  ...                  Teresina\n",
              "509            4243  ...                  Teresina\n",
              "590           31991  ...                  Teresina\n",
              "\n",
              "[4 rows x 8 columns]"
            ]
          },
          "metadata": {},
          "execution_count": 40
        }
      ]
    },
    {
      "cell_type": "code",
      "source": [
        ""
      ],
      "metadata": {
        "id": "On_yOuTGYzDb"
      },
      "execution_count": null,
      "outputs": []
    }
  ],
  "metadata": {
    "kernelspec": {
      "display_name": "Python 3",
      "language": "python",
      "name": "python3"
    },
    "language_info": {
      "codemirror_mode": {
        "name": "ipython",
        "version": 3
      },
      "file_extension": ".py",
      "mimetype": "text/x-python",
      "name": "python",
      "nbconvert_exporter": "python",
      "pygments_lexer": "ipython3",
      "version": "3.7.1"
    },
    "colab": {
      "name": "OCN-Pronatec.ipynb",
      "provenance": [],
      "collapsed_sections": []
    }
  },
  "nbformat": 4,
  "nbformat_minor": 0
}